{
 "cells": [
  {
   "cell_type": "code",
   "execution_count": null,
   "id": "f32ca7f1",
   "metadata": {},
   "outputs": [],
   "source": [
    "Understanding the variables in python"
   ]
  },
  {
   "cell_type": "code",
   "execution_count": 4,
   "id": "1f6c5b5c",
   "metadata": {},
   "outputs": [],
   "source": [
    "x = 2\n",
    "y = 3"
   ]
  },
  {
   "cell_type": "code",
   "execution_count": 5,
   "id": "3eb632c6",
   "metadata": {},
   "outputs": [
    {
     "name": "stdout",
     "output_type": "stream",
     "text": [
      "5\n"
     ]
    }
   ],
   "source": [
    "z =x+y\n",
    "\n",
    "print(z)"
   ]
  },
  {
   "cell_type": "code",
   "execution_count": null,
   "id": "615a5776",
   "metadata": {},
   "outputs": [],
   "source": [
    "Rules for declaring the variables in python"
   ]
  },
  {
   "cell_type": "code",
   "execution_count": null,
   "id": "0e0cfcb0",
   "metadata": {},
   "outputs": [],
   "source": [
    "Rule No: 1 - No namespace while decalring the variables"
   ]
  },
  {
   "cell_type": "code",
   "execution_count": 6,
   "id": "b59ba0c8",
   "metadata": {},
   "outputs": [
    {
     "ename": "SyntaxError",
     "evalue": "invalid syntax (Temp/ipykernel_1896/3216145602.py, line 1)",
     "output_type": "error",
     "traceback": [
      "\u001b[1;36m  File \u001b[1;32m\"C:\\Users\\Chakki\\AppData\\Local\\Temp/ipykernel_1896/3216145602.py\"\u001b[1;36m, line \u001b[1;32m1\u001b[0m\n\u001b[1;33m    first name = 'bini'\u001b[0m\n\u001b[1;37m          ^\u001b[0m\n\u001b[1;31mSyntaxError\u001b[0m\u001b[1;31m:\u001b[0m invalid syntax\n"
     ]
    }
   ],
   "source": [
    "first name = 'bini'\n",
    "\n",
    "print(first name)"
   ]
  },
  {
   "cell_type": "code",
   "execution_count": 7,
   "id": "73179790",
   "metadata": {},
   "outputs": [
    {
     "name": "stdout",
     "output_type": "stream",
     "text": [
      "bini\n"
     ]
    }
   ],
   "source": [
    "firstname = 'bini'\n",
    "\n",
    "print(firstname)"
   ]
  },
  {
   "cell_type": "code",
   "execution_count": null,
   "id": "de7d047a",
   "metadata": {},
   "outputs": [],
   "source": [
    "Rule No 2 : A variable name should not start with a number"
   ]
  },
  {
   "cell_type": "code",
   "execution_count": 8,
   "id": "c78e2363",
   "metadata": {},
   "outputs": [
    {
     "ename": "SyntaxError",
     "evalue": "invalid syntax (Temp/ipykernel_1896/3678227731.py, line 1)",
     "output_type": "error",
     "traceback": [
      "\u001b[1;36m  File \u001b[1;32m\"C:\\Users\\Chakki\\AppData\\Local\\Temp/ipykernel_1896/3678227731.py\"\u001b[1;36m, line \u001b[1;32m1\u001b[0m\n\u001b[1;33m    1name = 'bini'\u001b[0m\n\u001b[1;37m     ^\u001b[0m\n\u001b[1;31mSyntaxError\u001b[0m\u001b[1;31m:\u001b[0m invalid syntax\n"
     ]
    }
   ],
   "source": [
    "1name = 'bini'\n",
    "\n",
    "print(1name)"
   ]
  },
  {
   "cell_type": "code",
   "execution_count": 9,
   "id": "4af60366",
   "metadata": {},
   "outputs": [
    {
     "name": "stdout",
     "output_type": "stream",
     "text": [
      "bini\n"
     ]
    }
   ],
   "source": [
    "name1 ='bini'\n",
    "\n",
    "print(name1)"
   ]
  },
  {
   "cell_type": "code",
   "execution_count": null,
   "id": "0a0d74c1",
   "metadata": {},
   "outputs": [],
   "source": [
    "Rule No 3 : A variable name should not contain any special character"
   ]
  },
  {
   "cell_type": "code",
   "execution_count": 10,
   "id": "9198f4ad",
   "metadata": {},
   "outputs": [
    {
     "ename": "SyntaxError",
     "evalue": "invalid syntax (Temp/ipykernel_1896/2544920655.py, line 1)",
     "output_type": "error",
     "traceback": [
      "\u001b[1;36m  File \u001b[1;32m\"C:\\Users\\Chakki\\AppData\\Local\\Temp/ipykernel_1896/2544920655.py\"\u001b[1;36m, line \u001b[1;32m1\u001b[0m\n\u001b[1;33m    name$ ='bini'\u001b[0m\n\u001b[1;37m        ^\u001b[0m\n\u001b[1;31mSyntaxError\u001b[0m\u001b[1;31m:\u001b[0m invalid syntax\n"
     ]
    }
   ],
   "source": [
    "name$ ='bini'\n",
    "\n",
    "print(name$)"
   ]
  },
  {
   "cell_type": "code",
   "execution_count": null,
   "id": "64519ea6",
   "metadata": {},
   "outputs": [],
   "source": [
    "Datatypes in python\n",
    "\n",
    "1. String === str\n",
    "2. Number === integer (int) and floats (float) [decimal]\n",
    "3. Lists === list\n",
    "4. tuples === tuple\n",
    "5. Dictionaries === dict\n",
    "\n"
   ]
  },
  {
   "cell_type": "code",
   "execution_count": null,
   "id": "370e6951",
   "metadata": {},
   "outputs": [],
   "source": [
    "classification of datatypes in python\n",
    "\n",
    "1. Mutable === > which we can edit and alter == flexiable in nature\n",
    "\n",
    "2. Immutable ===> which we cannot able to edit or alter == fixed in nature"
   ]
  },
  {
   "cell_type": "code",
   "execution_count": null,
   "id": "c9406731",
   "metadata": {},
   "outputs": [],
   "source": [
    "Introduction to String datatype \n",
    "\n",
    "Definition : A string is a series of characters declared in quotes. \n",
    "\n",
    "Classification : it is classified as an immutable datatype \n",
    "    \n",
    "How to declare the String datatype ? \n",
    "\n",
    "3 approaches of declaring a String\n",
    "\n",
    "1. single quote\n",
    "\n",
    "2. double quote\n",
    "\n",
    "3. triple quote\n",
    "    "
   ]
  },
  {
   "cell_type": "code",
   "execution_count": 11,
   "id": "95b8ad96",
   "metadata": {},
   "outputs": [
    {
     "name": "stdout",
     "output_type": "stream",
     "text": [
      "bini\n"
     ]
    }
   ],
   "source": [
    "name1 ='bini' # single quote\n",
    "\n",
    "print(name1)"
   ]
  },
  {
   "cell_type": "code",
   "execution_count": 12,
   "id": "e0a2ee56",
   "metadata": {},
   "outputs": [
    {
     "name": "stdout",
     "output_type": "stream",
     "text": [
      "bini\n"
     ]
    }
   ],
   "source": [
    "name2 =\"bini\" # double quote\n",
    "\n",
    "print(name2)"
   ]
  },
  {
   "cell_type": "code",
   "execution_count": 15,
   "id": "a584e0ea",
   "metadata": {},
   "outputs": [
    {
     "name": "stdout",
     "output_type": "stream",
     "text": [
      "bini\n"
     ]
    }
   ],
   "source": [
    "name3 =\"\"\"bini\"\"\" # triple quote\n",
    "\n",
    "print(name3)"
   ]
  },
  {
   "cell_type": "code",
   "execution_count": null,
   "id": "fe2a8022",
   "metadata": {},
   "outputs": [],
   "source": []
  }
 ],
 "metadata": {
  "kernelspec": {
   "display_name": "Python 3 (ipykernel)",
   "language": "python",
   "name": "python3"
  },
  "language_info": {
   "codemirror_mode": {
    "name": "ipython",
    "version": 3
   },
   "file_extension": ".py",
   "mimetype": "text/x-python",
   "name": "python",
   "nbconvert_exporter": "python",
   "pygments_lexer": "ipython3",
   "version": "3.9.7"
  }
 },
 "nbformat": 4,
 "nbformat_minor": 5
}
