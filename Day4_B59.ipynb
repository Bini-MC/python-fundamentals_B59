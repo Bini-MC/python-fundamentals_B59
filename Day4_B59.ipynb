{
 "cells": [
  {
   "cell_type": "code",
   "execution_count": null,
   "id": "754efb85",
   "metadata": {},
   "outputs": [],
   "source": [
    "Introduction to list datatype"
   ]
  },
  {
   "cell_type": "code",
   "execution_count": null,
   "id": "8869319f",
   "metadata": {},
   "outputs": [],
   "source": [
    "definition : A list is a collection of items declared in a particular order\n",
    "    \n",
    "classification : it is classified as a mutable datatype\n",
    "    \n",
    "how to declare the list datatype ? \n",
    "\n",
    "using [] brackets"
   ]
  },
  {
   "cell_type": "code",
   "execution_count": 4,
   "id": "9146acd3",
   "metadata": {},
   "outputs": [
    {
     "name": "stdout",
     "output_type": "stream",
     "text": [
      "['bini', 'bindu', 'bibin', 'priya', 'arun', 'aravind', 'rahul']\n"
     ]
    }
   ],
   "source": [
    "students =['bini', 'bindu', 'bibin','priya','arun','aravind','rahul'] #0,1,2,3,4,5,6\n",
    "\n",
    "print(students)"
   ]
  },
  {
   "cell_type": "code",
   "execution_count": 3,
   "id": "df4e6449",
   "metadata": {},
   "outputs": [
    {
     "data": {
      "text/plain": [
       "list"
      ]
     },
     "execution_count": 3,
     "metadata": {},
     "output_type": "execute_result"
    }
   ],
   "source": [
    "type(students)"
   ]
  },
  {
   "cell_type": "code",
   "execution_count": null,
   "id": "99c52705",
   "metadata": {},
   "outputs": [],
   "source": []
  },
  {
   "cell_type": "code",
   "execution_count": null,
   "id": "4120c09a",
   "metadata": {},
   "outputs": [],
   "source": [
    "# how to access the above elements from the list?"
   ]
  },
  {
   "cell_type": "code",
   "execution_count": null,
   "id": "270bf7bb",
   "metadata": {},
   "outputs": [],
   "source": [
    "introduction to indexing :0,1,2,3,4"
   ]
  },
  {
   "cell_type": "code",
   "execution_count": null,
   "id": "9cd3da23",
   "metadata": {},
   "outputs": [],
   "source": [
    "# req : i want to access bibin name from the above list?"
   ]
  },
  {
   "cell_type": "code",
   "execution_count": 5,
   "id": "245ce838",
   "metadata": {},
   "outputs": [
    {
     "name": "stdout",
     "output_type": "stream",
     "text": [
      "bibin\n"
     ]
    }
   ],
   "source": [
    "print(students[2])"
   ]
  },
  {
   "cell_type": "code",
   "execution_count": null,
   "id": "72b8125a",
   "metadata": {},
   "outputs": [],
   "source": [
    "# req : i want to access aravind name from the above list?"
   ]
  },
  {
   "cell_type": "code",
   "execution_count": 6,
   "id": "d79c951c",
   "metadata": {},
   "outputs": [
    {
     "name": "stdout",
     "output_type": "stream",
     "text": [
      "aravind\n"
     ]
    }
   ],
   "source": [
    "print(students[5])"
   ]
  },
  {
   "cell_type": "code",
   "execution_count": 8,
   "id": "19f61a4f",
   "metadata": {},
   "outputs": [
    {
     "name": "stdout",
     "output_type": "stream",
     "text": [
      "Aravind\n"
     ]
    }
   ],
   "source": [
    "print(students[5].title())"
   ]
  },
  {
   "cell_type": "code",
   "execution_count": null,
   "id": "96a3722a",
   "metadata": {},
   "outputs": [],
   "source": []
  },
  {
   "cell_type": "code",
   "execution_count": null,
   "id": "8b2f9a71",
   "metadata": {},
   "outputs": [],
   "source": [
    "1. how to add new elements to the list\n",
    "\n",
    "2. how to modify the elements in the list\n",
    "\n",
    "3. how to delete the elements in the list"
   ]
  },
  {
   "cell_type": "code",
   "execution_count": null,
   "id": "f3d644cf",
   "metadata": {},
   "outputs": [],
   "source": []
  },
  {
   "cell_type": "code",
   "execution_count": 9,
   "id": "e2188e82",
   "metadata": {},
   "outputs": [
    {
     "name": "stdout",
     "output_type": "stream",
     "text": [
      "['bini', 'bindu', 'bibin', 'priya', 'arun', 'aravind', 'rahul']\n"
     ]
    }
   ],
   "source": [
    "print(students)"
   ]
  },
  {
   "cell_type": "code",
   "execution_count": null,
   "id": "f3812aeb",
   "metadata": {},
   "outputs": [],
   "source": [
    "# req : i want to add 'sachin' name to the above list"
   ]
  },
  {
   "cell_type": "code",
   "execution_count": 10,
   "id": "0c93c0e1",
   "metadata": {},
   "outputs": [],
   "source": [
    "students.append('sachin')"
   ]
  },
  {
   "cell_type": "code",
   "execution_count": 11,
   "id": "e06d9636",
   "metadata": {},
   "outputs": [
    {
     "name": "stdout",
     "output_type": "stream",
     "text": [
      "['bini', 'bindu', 'bibin', 'priya', 'arun', 'aravind', 'rahul', 'sachin']\n"
     ]
    }
   ],
   "source": [
    "print(students)"
   ]
  },
  {
   "cell_type": "code",
   "execution_count": null,
   "id": "1198b720",
   "metadata": {},
   "outputs": [],
   "source": []
  },
  {
   "cell_type": "code",
   "execution_count": null,
   "id": "10c9ceff",
   "metadata": {},
   "outputs": [],
   "source": [
    "# req : i want to add 'lavanya' name to the above list"
   ]
  },
  {
   "cell_type": "code",
   "execution_count": 12,
   "id": "a2016477",
   "metadata": {},
   "outputs": [],
   "source": [
    "students.append('lavanya')"
   ]
  },
  {
   "cell_type": "code",
   "execution_count": 13,
   "id": "fb075560",
   "metadata": {},
   "outputs": [
    {
     "name": "stdout",
     "output_type": "stream",
     "text": [
      "['bini', 'bindu', 'bibin', 'priya', 'arun', 'aravind', 'rahul', 'sachin', 'lavanya']\n"
     ]
    }
   ],
   "source": [
    "print(students)"
   ]
  },
  {
   "cell_type": "code",
   "execution_count": null,
   "id": "2e280d5d",
   "metadata": {},
   "outputs": [],
   "source": []
  },
  {
   "cell_type": "code",
   "execution_count": null,
   "id": "b809e768",
   "metadata": {},
   "outputs": [],
   "source": [
    "# req : i want to add 'charan' name to the 2nd index"
   ]
  },
  {
   "cell_type": "code",
   "execution_count": 15,
   "id": "98e5d6ec",
   "metadata": {},
   "outputs": [],
   "source": [
    "students.insert(2,'charan')"
   ]
  },
  {
   "cell_type": "code",
   "execution_count": 16,
   "id": "8c2dd768",
   "metadata": {},
   "outputs": [
    {
     "name": "stdout",
     "output_type": "stream",
     "text": [
      "['bini', 'bindu', 'charan', 'bibin', 'priya', 'arun', 'aravind', 'rahul', 'sachin', 'lavanya']\n"
     ]
    }
   ],
   "source": [
    "print(students)"
   ]
  },
  {
   "cell_type": "code",
   "execution_count": 17,
   "id": "58150b65",
   "metadata": {},
   "outputs": [
    {
     "name": "stdout",
     "output_type": "stream",
     "text": [
      "charan\n"
     ]
    }
   ],
   "source": [
    "print(students[2])"
   ]
  },
  {
   "cell_type": "code",
   "execution_count": null,
   "id": "97a7e0f7",
   "metadata": {},
   "outputs": [],
   "source": [
    "interview question : what is the difference between 'append' and 'insert' method in a list"
   ]
  },
  {
   "cell_type": "code",
   "execution_count": null,
   "id": "c9384859",
   "metadata": {},
   "outputs": [],
   "source": []
  },
  {
   "cell_type": "code",
   "execution_count": null,
   "id": "669a3ccf",
   "metadata": {},
   "outputs": [],
   "source": [
    "# how to modify the elements in the list"
   ]
  },
  {
   "cell_type": "code",
   "execution_count": 18,
   "id": "48a6c53d",
   "metadata": {},
   "outputs": [
    {
     "name": "stdout",
     "output_type": "stream",
     "text": [
      "['bini', 'bindu', 'charan', 'bibin', 'priya', 'arun', 'aravind', 'rahul', 'sachin', 'lavanya']\n"
     ]
    }
   ],
   "source": [
    "print(students)"
   ]
  },
  {
   "cell_type": "code",
   "execution_count": null,
   "id": "a2984c75",
   "metadata": {},
   "outputs": [],
   "source": []
  },
  {
   "cell_type": "code",
   "execution_count": null,
   "id": "6722182b",
   "metadata": {},
   "outputs": [],
   "source": [
    "# req : i want to modify 'charan' name to 'chaithanya'"
   ]
  },
  {
   "cell_type": "code",
   "execution_count": null,
   "id": "ddef3c85",
   "metadata": {},
   "outputs": [],
   "source": []
  },
  {
   "cell_type": "code",
   "execution_count": 27,
   "id": "9d4169f5",
   "metadata": {},
   "outputs": [],
   "source": [
    "students[2] ='chaithanya'"
   ]
  },
  {
   "cell_type": "code",
   "execution_count": 28,
   "id": "52dec39b",
   "metadata": {},
   "outputs": [
    {
     "name": "stdout",
     "output_type": "stream",
     "text": [
      "['bini', 'bindu', 'chaithanya', 'bibin', 'priya', 'aravind', 'rahul', 'sachin', 'lavanya']\n"
     ]
    }
   ],
   "source": [
    "print(students)"
   ]
  },
  {
   "cell_type": "code",
   "execution_count": null,
   "id": "e464d2cc",
   "metadata": {},
   "outputs": [],
   "source": []
  },
  {
   "cell_type": "code",
   "execution_count": null,
   "id": "fa9e2581",
   "metadata": {},
   "outputs": [],
   "source": [
    "# how to delete the elements in the list"
   ]
  },
  {
   "cell_type": "code",
   "execution_count": 29,
   "id": "d98d6fac",
   "metadata": {},
   "outputs": [
    {
     "name": "stdout",
     "output_type": "stream",
     "text": [
      "['bini', 'bindu', 'chaithanya', 'bibin', 'priya', 'aravind', 'rahul', 'sachin', 'lavanya']\n"
     ]
    }
   ],
   "source": [
    "print(students)"
   ]
  },
  {
   "cell_type": "code",
   "execution_count": null,
   "id": "fd573eb4",
   "metadata": {},
   "outputs": [],
   "source": [
    "# req : i want to delete 'arun' from the above list"
   ]
  },
  {
   "cell_type": "code",
   "execution_count": 30,
   "id": "39a74767",
   "metadata": {},
   "outputs": [],
   "source": [
    "del students[5]"
   ]
  },
  {
   "cell_type": "code",
   "execution_count": 31,
   "id": "07401299",
   "metadata": {},
   "outputs": [
    {
     "name": "stdout",
     "output_type": "stream",
     "text": [
      "['bini', 'bindu', 'chaithanya', 'bibin', 'priya', 'rahul', 'sachin', 'lavanya']\n"
     ]
    }
   ],
   "source": [
    "print(students)"
   ]
  },
  {
   "cell_type": "code",
   "execution_count": null,
   "id": "95a158c1",
   "metadata": {},
   "outputs": [],
   "source": []
  },
  {
   "cell_type": "code",
   "execution_count": null,
   "id": "f971cde2",
   "metadata": {},
   "outputs": [],
   "source": []
  },
  {
   "cell_type": "code",
   "execution_count": null,
   "id": "aa1fc0bf",
   "metadata": {},
   "outputs": [],
   "source": []
  },
  {
   "cell_type": "code",
   "execution_count": null,
   "id": "b3f92a79",
   "metadata": {},
   "outputs": [],
   "source": []
  }
 ],
 "metadata": {
  "kernelspec": {
   "display_name": "Python 3 (ipykernel)",
   "language": "python",
   "name": "python3"
  },
  "language_info": {
   "codemirror_mode": {
    "name": "ipython",
    "version": 3
   },
   "file_extension": ".py",
   "mimetype": "text/x-python",
   "name": "python",
   "nbconvert_exporter": "python",
   "pygments_lexer": "ipython3",
   "version": "3.9.7"
  }
 },
 "nbformat": 4,
 "nbformat_minor": 5
}
