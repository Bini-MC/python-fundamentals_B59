{
 "cells": [
  {
   "cell_type": "code",
   "execution_count": null,
   "id": "42b3fa9c",
   "metadata": {},
   "outputs": [],
   "source": [
    "continution with Strings : "
   ]
  },
  {
   "cell_type": "code",
   "execution_count": null,
   "id": "c4817d4f",
   "metadata": {},
   "outputs": [],
   "source": []
  },
  {
   "cell_type": "code",
   "execution_count": null,
   "id": "03f859e2",
   "metadata": {},
   "outputs": [],
   "source": [
    "Introduction to String methods :"
   ]
  },
  {
   "cell_type": "code",
   "execution_count": null,
   "id": "0bef571a",
   "metadata": {},
   "outputs": [],
   "source": []
  },
  {
   "cell_type": "code",
   "execution_count": 1,
   "id": "a92de8d2",
   "metadata": {},
   "outputs": [
    {
     "name": "stdout",
     "output_type": "stream",
     "text": [
      "bini\n"
     ]
    }
   ],
   "source": [
    "name ='bini'\n",
    "\n",
    "print(name)"
   ]
  },
  {
   "cell_type": "code",
   "execution_count": 2,
   "id": "afa1680e",
   "metadata": {},
   "outputs": [
    {
     "data": {
      "text/plain": [
       "str"
      ]
     },
     "execution_count": 2,
     "metadata": {},
     "output_type": "execute_result"
    }
   ],
   "source": [
    "type(name)"
   ]
  },
  {
   "cell_type": "code",
   "execution_count": null,
   "id": "2b531c29",
   "metadata": {},
   "outputs": [],
   "source": [
    "String --->str"
   ]
  },
  {
   "cell_type": "code",
   "execution_count": 3,
   "id": "c5304d88",
   "metadata": {},
   "outputs": [
    {
     "name": "stdout",
     "output_type": "stream",
     "text": [
      "bini mc\n"
     ]
    }
   ],
   "source": [
    "fullname ='bini mc'\n",
    "\n",
    "print(fullname)"
   ]
  },
  {
   "cell_type": "code",
   "execution_count": 4,
   "id": "d3674821",
   "metadata": {},
   "outputs": [
    {
     "name": "stdout",
     "output_type": "stream",
     "text": [
      "Bini Mc\n"
     ]
    }
   ],
   "source": [
    "print(fullname.title())"
   ]
  },
  {
   "cell_type": "code",
   "execution_count": null,
   "id": "a314c23f",
   "metadata": {},
   "outputs": [],
   "source": [
    "#Req: i want to get the fullname in capital letters"
   ]
  },
  {
   "cell_type": "code",
   "execution_count": null,
   "id": "5d8fe7d6",
   "metadata": {},
   "outputs": [],
   "source": []
  },
  {
   "cell_type": "code",
   "execution_count": 5,
   "id": "24237851",
   "metadata": {},
   "outputs": [
    {
     "name": "stdout",
     "output_type": "stream",
     "text": [
      "BINI MC\n"
     ]
    }
   ],
   "source": [
    "print(fullname.upper())"
   ]
  },
  {
   "cell_type": "code",
   "execution_count": null,
   "id": "0c7cea5e",
   "metadata": {},
   "outputs": [],
   "source": [
    "#Req: i want to get the fullname in smallcase letters"
   ]
  },
  {
   "cell_type": "code",
   "execution_count": null,
   "id": "ec456382",
   "metadata": {},
   "outputs": [],
   "source": []
  },
  {
   "cell_type": "code",
   "execution_count": 6,
   "id": "bffa3ae2",
   "metadata": {},
   "outputs": [
    {
     "name": "stdout",
     "output_type": "stream",
     "text": [
      "bini mc\n"
     ]
    }
   ],
   "source": [
    "print(fullname.lower())"
   ]
  },
  {
   "cell_type": "code",
   "execution_count": null,
   "id": "95fd65b0",
   "metadata": {},
   "outputs": [],
   "source": []
  },
  {
   "cell_type": "code",
   "execution_count": null,
   "id": "ed224cdf",
   "metadata": {},
   "outputs": [],
   "source": [
    "introduction to f strings:"
   ]
  },
  {
   "cell_type": "code",
   "execution_count": null,
   "id": "ff96a22f",
   "metadata": {},
   "outputs": [],
   "source": [
    "#general syntax for the f strings :"
   ]
  },
  {
   "cell_type": "code",
   "execution_count": null,
   "id": "600a3511",
   "metadata": {},
   "outputs": [],
   "source": [
    "f\" custom message {placeholder1} {placeholder1}...{placeholder...n}\""
   ]
  },
  {
   "cell_type": "code",
   "execution_count": null,
   "id": "cc94a504",
   "metadata": {},
   "outputs": [],
   "source": []
  },
  {
   "cell_type": "code",
   "execution_count": 7,
   "id": "f35cd3d8",
   "metadata": {},
   "outputs": [],
   "source": [
    "firstname ='bini'\n",
    "lastname ='mc'"
   ]
  },
  {
   "cell_type": "code",
   "execution_count": null,
   "id": "2b9d5b18",
   "metadata": {},
   "outputs": [],
   "source": []
  },
  {
   "cell_type": "code",
   "execution_count": null,
   "id": "488468af",
   "metadata": {},
   "outputs": [],
   "source": [
    "#req  : get the full name ?"
   ]
  },
  {
   "cell_type": "code",
   "execution_count": 12,
   "id": "71303cbd",
   "metadata": {},
   "outputs": [
    {
     "name": "stdout",
     "output_type": "stream",
     "text": [
      "bini mc\n"
     ]
    }
   ],
   "source": [
    "full_name =f\"{firstname} {lastname}\"\n",
    "\n",
    "print(full_name)"
   ]
  },
  {
   "cell_type": "code",
   "execution_count": 13,
   "id": "36a7091b",
   "metadata": {},
   "outputs": [
    {
     "name": "stdout",
     "output_type": "stream",
     "text": [
      "Bini Mc\n"
     ]
    }
   ],
   "source": [
    "print(full_name.title())"
   ]
  },
  {
   "cell_type": "code",
   "execution_count": 15,
   "id": "fa73b3f7",
   "metadata": {},
   "outputs": [
    {
     "name": "stdout",
     "output_type": "stream",
     "text": [
      "keep up the good work, Bini Mc\n"
     ]
    }
   ],
   "source": [
    "message =f\"keep up the good work, {full_name.title()}\"\n",
    "\n",
    "print(message)"
   ]
  },
  {
   "cell_type": "code",
   "execution_count": null,
   "id": "a53e33da",
   "metadata": {},
   "outputs": [],
   "source": []
  },
  {
   "cell_type": "code",
   "execution_count": null,
   "id": "ea5ee238",
   "metadata": {},
   "outputs": [],
   "source": [
    "Adding whitespaces to strings"
   ]
  },
  {
   "cell_type": "code",
   "execution_count": null,
   "id": "16147c0d",
   "metadata": {},
   "outputs": [],
   "source": []
  },
  {
   "cell_type": "code",
   "execution_count": 16,
   "id": "4bb5a829",
   "metadata": {},
   "outputs": [
    {
     "name": "stdout",
     "output_type": "stream",
     "text": [
      "favourite_language:pythonc++javacpasacalcobal\n"
     ]
    }
   ],
   "source": [
    "print('favourite_language:pythonc++javacpasacalcobal')"
   ]
  },
  {
   "cell_type": "code",
   "execution_count": 17,
   "id": "635d5304",
   "metadata": {},
   "outputs": [
    {
     "name": "stdout",
     "output_type": "stream",
     "text": [
      "favourite_language:\n",
      "python\n",
      "c++\n",
      "java\n",
      "c\n",
      "pasacal\n",
      "cobal\n"
     ]
    }
   ],
   "source": [
    "print('favourite_language:\\npython\\nc++\\njava\\nc\\npasacal\\ncobal')"
   ]
  },
  {
   "cell_type": "code",
   "execution_count": null,
   "id": "8ec6024d",
   "metadata": {},
   "outputs": [],
   "source": [
    "\\n --->new line delimeter"
   ]
  },
  {
   "cell_type": "code",
   "execution_count": 19,
   "id": "e6269c74",
   "metadata": {},
   "outputs": [
    {
     "name": "stdout",
     "output_type": "stream",
     "text": [
      "favourite_language:\n",
      "\tpython\n",
      "\tc++\n",
      "\tjava\n",
      "\tc\n",
      "\tpasacal\n",
      "\tcobal\n"
     ]
    }
   ],
   "source": [
    "print('favourite_language:\\n\\tpython\\n\\tc++\\n\\tjava\\n\\tc\\n\\tpasacal\\n\\tcobal')"
   ]
  },
  {
   "cell_type": "code",
   "execution_count": null,
   "id": "6ad8bde3",
   "metadata": {},
   "outputs": [],
   "source": [
    "\\t --> tab delimeter"
   ]
  },
  {
   "cell_type": "code",
   "execution_count": null,
   "id": "12cf1786",
   "metadata": {},
   "outputs": [],
   "source": []
  },
  {
   "cell_type": "code",
   "execution_count": null,
   "id": "42a597bb",
   "metadata": {},
   "outputs": [],
   "source": []
  },
  {
   "cell_type": "code",
   "execution_count": null,
   "id": "a69e24fb",
   "metadata": {},
   "outputs": [],
   "source": []
  },
  {
   "cell_type": "code",
   "execution_count": null,
   "id": "ff39af9c",
   "metadata": {},
   "outputs": [],
   "source": []
  },
  {
   "cell_type": "code",
   "execution_count": null,
   "id": "e3453ac8",
   "metadata": {},
   "outputs": [],
   "source": []
  },
  {
   "cell_type": "code",
   "execution_count": null,
   "id": "1aac96c5",
   "metadata": {},
   "outputs": [],
   "source": []
  },
  {
   "cell_type": "code",
   "execution_count": null,
   "id": "b7d2eade",
   "metadata": {},
   "outputs": [],
   "source": []
  }
 ],
 "metadata": {
  "kernelspec": {
   "display_name": "Python 3 (ipykernel)",
   "language": "python",
   "name": "python3"
  },
  "language_info": {
   "codemirror_mode": {
    "name": "ipython",
    "version": 3
   },
   "file_extension": ".py",
   "mimetype": "text/x-python",
   "name": "python",
   "nbconvert_exporter": "python",
   "pygments_lexer": "ipython3",
   "version": "3.9.7"
  }
 },
 "nbformat": 4,
 "nbformat_minor": 5
}
